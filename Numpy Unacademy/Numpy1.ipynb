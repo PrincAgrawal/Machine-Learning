{
 "cells": [
  {
   "cell_type": "code",
   "execution_count": 1,
   "id": "1ebcfbe5-039b-400d-9588-14323b97e06f",
   "metadata": {},
   "outputs": [
    {
     "name": "stdout",
     "output_type": "stream",
     "text": [
      "Hello jupyter\n"
     ]
    }
   ],
   "source": [
    "print(\"Hello jupyter\")"
   ]
  },
  {
   "cell_type": "markdown",
   "id": "967c4932-09e0-4949-ada8-f100f4614477",
   "metadata": {},
   "source": [
    "### Heading"
   ]
  },
  {
   "cell_type": "code",
   "execution_count": 2,
   "id": "067d9e82-281a-4fcd-b53a-f4f9fd1a9a6a",
   "metadata": {},
   "outputs": [],
   "source": [
    "import numpy as np"
   ]
  },
  {
   "cell_type": "code",
   "execution_count": 11,
   "id": "48eb05b5-c16e-46e7-95f6-fce9963a0865",
   "metadata": {},
   "outputs": [
    {
     "name": "stdout",
     "output_type": "stream",
     "text": [
      "[1 2 3 4 5]\n",
      "1\n",
      "5\n"
     ]
    }
   ],
   "source": [
    "a=np.array([1,2,3,4,5])\n",
    "print(a)\n",
    "print(a[0])\n",
    "print(a[-1])"
   ]
  },
  {
   "cell_type": "code",
   "execution_count": 15,
   "id": "e1b35734-dadb-46ed-b2fd-0eedd2e0ea6b",
   "metadata": {},
   "outputs": [
    {
     "name": "stdout",
     "output_type": "stream",
     "text": [
      "[[1 2 3 4]\n",
      " [5 6 7 8]]\n"
     ]
    }
   ],
   "source": [
    "# 2-D array\n",
    "b=np.array([[1,2,3,4],[5,6,7,8]])\n",
    "print(b)"
   ]
  },
  {
   "cell_type": "code",
   "execution_count": 18,
   "id": "38571f2f-3843-4df1-a494-10f71c2ef540",
   "metadata": {},
   "outputs": [
    {
     "name": "stdout",
     "output_type": "stream",
     "text": [
      "1\n",
      "2\n"
     ]
    }
   ],
   "source": [
    "# get dimension\n",
    "print(a.ndim)\n",
    "print(b.ndim)"
   ]
  },
  {
   "cell_type": "code",
   "execution_count": 20,
   "id": "649d3f92-10d5-41ce-829e-cd78b8d18d5b",
   "metadata": {},
   "outputs": [
    {
     "data": {
      "text/plain": [
       "(2, 4)"
      ]
     },
     "execution_count": 20,
     "metadata": {},
     "output_type": "execute_result"
    }
   ],
   "source": [
    "# get shape\n",
    "b.shape"
   ]
  },
  {
   "cell_type": "code",
   "execution_count": 27,
   "id": "68dd6bae-cbd6-48d6-a676-3911d2f8cff3",
   "metadata": {},
   "outputs": [
    {
     "name": "stdout",
     "output_type": "stream",
     "text": [
      "[1 2 3 4 5 6 7 8]\n",
      "\n",
      "[[1 2 3 4]\n",
      " [5 6 7 8]]\n"
     ]
    }
   ],
   "source": [
    "# reshape array\n",
    "x=np.array([1,2,3,4,5,6,7,8])\n",
    "print(x)\n",
    "\n",
    "print()\n",
    "y=x.reshape(2,4)\n",
    "print(y)"
   ]
  },
  {
   "cell_type": "code",
   "execution_count": 29,
   "id": "8f671f19-cdfb-4bd6-9fc4-ca565578831b",
   "metadata": {},
   "outputs": [
    {
     "data": {
      "text/plain": [
       "dtype('int32')"
      ]
     },
     "execution_count": 29,
     "metadata": {},
     "output_type": "execute_result"
    }
   ],
   "source": [
    "# get type\n",
    "a.dtype\n",
    "b.dtype"
   ]
  },
  {
   "cell_type": "code",
   "execution_count": 30,
   "id": "9bfdd95e-72dd-43cb-9644-0c2977f022ee",
   "metadata": {},
   "outputs": [
    {
     "data": {
      "text/plain": [
       "4"
      ]
     },
     "execution_count": 30,
     "metadata": {},
     "output_type": "execute_result"
    }
   ],
   "source": [
    "# get size\n",
    "a.itemsize"
   ]
  },
  {
   "cell_type": "code",
   "execution_count": 31,
   "id": "18fe8e96-aa04-4b5e-950c-c3f74ee2fda8",
   "metadata": {},
   "outputs": [
    {
     "data": {
      "text/plain": [
       "20"
      ]
     },
     "execution_count": 31,
     "metadata": {},
     "output_type": "execute_result"
    }
   ],
   "source": [
    "# get total size\n",
    "a.nbytes"
   ]
  },
  {
   "cell_type": "code",
   "execution_count": 35,
   "id": "a872b34e-4deb-4818-83ec-4d90053c0eb1",
   "metadata": {},
   "outputs": [
    {
     "name": "stdout",
     "output_type": "stream",
     "text": [
      "5\n",
      "8\n"
     ]
    }
   ],
   "source": [
    "# get number of elements\n",
    "print(a.size)\n",
    "print(b.size)"
   ]
  },
  {
   "cell_type": "markdown",
   "id": "28c671e8-9a3a-48fa-8fd2-9e811b6b0a2a",
   "metadata": {},
   "source": [
    "# Accessing / Changing specific elements , rows , columns, etc.."
   ]
  },
  {
   "cell_type": "code",
   "execution_count": 37,
   "id": "4062b57b-9617-4f61-b96d-91afee103019",
   "metadata": {},
   "outputs": [
    {
     "name": "stdout",
     "output_type": "stream",
     "text": [
      "[[ 1  2  3  4  5]\n",
      " [ 6  7  8  9 10]]\n"
     ]
    }
   ],
   "source": [
    "a=np.array([[1,2,3,4,5],[6,7,8,9,10]])\n",
    "print(a)\n"
   ]
  },
  {
   "cell_type": "code",
   "execution_count": 38,
   "id": "f05cb353-758a-42de-b1e1-227dc8ec893e",
   "metadata": {},
   "outputs": [
    {
     "data": {
      "text/plain": [
       "10"
      ]
     },
     "execution_count": 38,
     "metadata": {},
     "output_type": "execute_result"
    }
   ],
   "source": [
    "# get a specific elements (r,c)\n",
    "a[1,4]"
   ]
  },
  {
   "cell_type": "code",
   "execution_count": 43,
   "id": "22ebf9eb-43df-46fa-9618-54154a669106",
   "metadata": {},
   "outputs": [
    {
     "name": "stdout",
     "output_type": "stream",
     "text": [
      "[ 6  7  8  9 10]\n",
      "[1 2 3 4 5]\n"
     ]
    }
   ],
   "source": [
    "# get a specific row\n",
    "print(a[1,:])\n",
    "print(a[0,:])"
   ]
  },
  {
   "cell_type": "code",
   "execution_count": 46,
   "id": "2cbb4d56-d6c7-4aea-924b-4dad0402fe0f",
   "metadata": {},
   "outputs": [
    {
     "name": "stdout",
     "output_type": "stream",
     "text": [
      "[4 9]\n"
     ]
    }
   ],
   "source": [
    "# get a specific column\n",
    "print(a[:,3])"
   ]
  },
  {
   "cell_type": "code",
   "execution_count": 47,
   "id": "56f26c18-6c7b-45d6-8cd2-b5a32358aa62",
   "metadata": {},
   "outputs": [
    {
     "data": {
      "text/plain": [
       "array([2, 4])"
      ]
     },
     "execution_count": 47,
     "metadata": {},
     "output_type": "execute_result"
    }
   ],
   "source": [
    "# [start:end:stepsize]\n",
    "a[0,1:5:2]"
   ]
  },
  {
   "cell_type": "code",
   "execution_count": 51,
   "id": "d261a59f-da5d-44f6-a0c0-7d7acafc6748",
   "metadata": {},
   "outputs": [
    {
     "name": "stdout",
     "output_type": "stream",
     "text": [
      "[[ 1  2  3  4  5]\n",
      " [ 6  7  8  9 25]]\n"
     ]
    }
   ],
   "source": [
    "# update an element\n",
    "a[1,4]=25\n",
    "print(a)"
   ]
  },
  {
   "cell_type": "code",
   "execution_count": 55,
   "id": "a7126a4c-a7d3-41bc-b756-c5c8278df0f7",
   "metadata": {},
   "outputs": [
    {
     "name": "stdout",
     "output_type": "stream",
     "text": [
      "[[ 1  2 18  5  5]\n",
      " [45 45 19  5 45]]\n",
      "\n",
      "[[ 1  2 18  5  5]\n",
      " [45 45 45 45 45]]\n",
      "\n",
      "[[ 1  2 18  5  5]\n",
      " [45 45 19 45 45]]\n"
     ]
    }
   ],
   "source": [
    "# update elements\n",
    "a[:,3]=5\n",
    "print(a)\n",
    "\n",
    "print()\n",
    "a[1,:]=45\n",
    "print(a)\n",
    "\n",
    "print()\n",
    "a[:,2]=[18,19]\n",
    "print(a)"
   ]
  },
  {
   "cell_type": "markdown",
   "id": "09552b61-ced9-472e-a5f0-ea43a559de04",
   "metadata": {},
   "source": [
    "# 3-D Array"
   ]
  },
  {
   "cell_type": "code",
   "execution_count": 62,
   "id": "6ac95992-85a4-4cc9-8273-f7b431759acd",
   "metadata": {},
   "outputs": [
    {
     "name": "stdout",
     "output_type": "stream",
     "text": [
      "[[[1 2]\n",
      "  [3 4]]\n",
      "\n",
      " [[5 6]\n",
      "  [7 8]]]\n"
     ]
    },
    {
     "data": {
      "text/plain": [
       "array([[5, 6],\n",
       "       [7, 8]])"
      ]
     },
     "execution_count": 62,
     "metadata": {},
     "output_type": "execute_result"
    }
   ],
   "source": [
    "c=np.array([[[1,2],[3,4]],[[5,6],[7,8]]])\n",
    "print(c)\n",
    "c[1,:,:]"
   ]
  },
  {
   "cell_type": "markdown",
   "id": "c10dfba4-6af6-41f0-8e52-4aed09b3b46a",
   "metadata": {},
   "source": [
    "## Initializing Different Types of Arrays"
   ]
  },
  {
   "cell_type": "code",
   "execution_count": 67,
   "id": "66cd5b15-196a-44ed-aea6-4c115aef685c",
   "metadata": {},
   "outputs": [
    {
     "name": "stdout",
     "output_type": "stream",
     "text": [
      "[[0 0 0]\n",
      " [0 0 0]]\n"
     ]
    }
   ],
   "source": [
    "# All 0's matrix\n",
    "a=np.zeros((2,3),dtype='i')\n",
    "print(a)"
   ]
  },
  {
   "cell_type": "code",
   "execution_count": 69,
   "id": "6aecaf53-1fd3-4569-a27c-6995d9bdff25",
   "metadata": {},
   "outputs": [
    {
     "name": "stdout",
     "output_type": "stream",
     "text": [
      "[[[1 1 1]\n",
      "  [1 1 1]]\n",
      "\n",
      " [[1 1 1]\n",
      "  [1 1 1]]\n",
      "\n",
      " [[1 1 1]\n",
      "  [1 1 1]]\n",
      "\n",
      " [[1 1 1]\n",
      "  [1 1 1]]]\n"
     ]
    }
   ],
   "source": [
    "# All 1's matrix\n",
    "x= np.ones((4,2,3),dtype='i')\n",
    "print(x)"
   ]
  },
  {
   "cell_type": "code",
   "execution_count": 71,
   "id": "fd566207-558a-4979-92ec-2e5c2cf55eaf",
   "metadata": {},
   "outputs": [
    {
     "data": {
      "text/plain": [
       "array([[[27, 27],\n",
       "        [27, 27]],\n",
       "\n",
       "       [[27, 27],\n",
       "        [27, 27]]])"
      ]
     },
     "execution_count": 71,
     "metadata": {},
     "output_type": "execute_result"
    }
   ],
   "source": [
    "# Any other value\n",
    "\n",
    "y=np.full((2,2,2),27)\n",
    "y"
   ]
  },
  {
   "cell_type": "code",
   "execution_count": 72,
   "id": "a439172d-481d-457a-829e-47bf072bc2c6",
   "metadata": {},
   "outputs": [
    {
     "name": "stdout",
     "output_type": "stream",
     "text": [
      "[[[56 56]\n",
      "  [56 56]]\n",
      "\n",
      " [[56 56]\n",
      "  [56 56]]]\n"
     ]
    }
   ],
   "source": [
    "# Any other number (full_like)\n",
    "y=np.full_like(y,56)\n",
    "print(y)"
   ]
  },
  {
   "cell_type": "code",
   "execution_count": 78,
   "id": "52dd5a10-c3cc-4f18-a79f-ba995fd0665a",
   "metadata": {},
   "outputs": [
    {
     "data": {
      "text/plain": [
       "array([[0.09120881, 0.61756986],\n",
       "       [0.41845498, 0.0355386 ],\n",
       "       [0.54039137, 0.62574194],\n",
       "       [0.49007549, 0.29125784]])"
      ]
     },
     "execution_count": 78,
     "metadata": {},
     "output_type": "execute_result"
    }
   ],
   "source": [
    "# Random decimal numbers \n",
    "np.random.rand(4,2)"
   ]
  },
  {
   "cell_type": "code",
   "execution_count": 81,
   "id": "8f71bd1c-4098-418b-b1d1-b7312868b730",
   "metadata": {},
   "outputs": [
    {
     "data": {
      "text/plain": [
       "array([[0.27051885, 0.65692183, 0.86758962, 0.80507788],\n",
       "       [0.22602791, 0.73182954, 0.49941194, 0.52408957]])"
      ]
     },
     "execution_count": 81,
     "metadata": {},
     "output_type": "execute_result"
    }
   ],
   "source": [
    "# Random integer number\n",
    "np.random.rand(2,4)"
   ]
  },
  {
   "cell_type": "code",
   "execution_count": 84,
   "id": "dad0dc29-ad03-4da8-86ae-1aa9abe20e0a",
   "metadata": {},
   "outputs": [
    {
     "data": {
      "text/plain": [
       "array([[1, 0, 0, 0, 0],\n",
       "       [0, 1, 0, 0, 0],\n",
       "       [0, 0, 1, 0, 0],\n",
       "       [0, 0, 0, 1, 0],\n",
       "       [0, 0, 0, 0, 1]], dtype=int32)"
      ]
     },
     "execution_count": 84,
     "metadata": {},
     "output_type": "execute_result"
    }
   ],
   "source": [
    "# the identity matrix\n",
    "np.identity(5,dtype='i')"
   ]
  },
  {
   "cell_type": "markdown",
   "id": "8e3b371f-19a4-4715-94bf-1aa520cb4bc6",
   "metadata": {},
   "source": [
    "# Copy and Other operations"
   ]
  },
  {
   "cell_type": "code",
   "execution_count": 86,
   "id": "c4f3f027-7adc-42ad-9264-1d0bdce6611f",
   "metadata": {},
   "outputs": [
    {
     "name": "stdout",
     "output_type": "stream",
     "text": [
      "[1 2 3 4]\n",
      "[67  2  3  4]\n"
     ]
    }
   ],
   "source": [
    "a=np.array([1,2,3,4])\n",
    "b=a.copy()\n",
    "\n",
    "b[0]=67\n",
    "print(a)\n",
    "print(b)"
   ]
  },
  {
   "cell_type": "code",
   "execution_count": null,
   "id": "d01d9a2c-ebcf-4ba9-9423-f283a03fdc86",
   "metadata": {},
   "outputs": [],
   "source": []
  }
 ],
 "metadata": {
  "kernelspec": {
   "display_name": "Python 3 (ipykernel)",
   "language": "python",
   "name": "python3"
  },
  "language_info": {
   "codemirror_mode": {
    "name": "ipython",
    "version": 3
   },
   "file_extension": ".py",
   "mimetype": "text/x-python",
   "name": "python",
   "nbconvert_exporter": "python",
   "pygments_lexer": "ipython3",
   "version": "3.10.6"
  }
 },
 "nbformat": 4,
 "nbformat_minor": 5
}
