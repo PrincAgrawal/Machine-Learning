{
 "cells": [
  {
   "cell_type": "code",
   "execution_count": 1,
   "id": "79f2cbb5-9cd9-4586-a33e-0c7a9c51fedd",
   "metadata": {},
   "outputs": [],
   "source": [
    "from numpy import random"
   ]
  },
  {
   "cell_type": "code",
   "execution_count": 21,
   "id": "e8c45f54-87ab-4ea6-b7a3-f21a8bcfd3ce",
   "metadata": {},
   "outputs": [],
   "source": [
    "# Random Permutations of Elements\n",
    "# A permutation refers to an arrangement of elements. \n",
    "#   e.g. [3, 2, 1] is a permutation of [1, 2, 3] and vice-versa.\n",
    "\n",
    "# The NumPy Random module provides two methods for this: shuffle() and permutation().\n"
   ]
  },
  {
   "cell_type": "code",
   "execution_count": 20,
   "id": "20b27fc4-e308-4c13-a71b-0dcf84641d91",
   "metadata": {},
   "outputs": [
    {
     "name": "stdout",
     "output_type": "stream",
     "text": [
      "[2 5 1 4 3]\n"
     ]
    }
   ],
   "source": [
    "# Shuffling Arrays\n",
    "# Shuffle means changing arrangement of elements in-place. i.e. in the array itself.\n",
    "\n",
    "# The shuffle() method makes changes to the original array.\n",
    "\n",
    "\n",
    "from numpy import random\n",
    "import numpy as np\n",
    "\n",
    "arr = np.array([1, 2, 3, 4, 5])\n",
    "\n",
    "random.shuffle(arr)\n",
    "\n",
    "print(arr)"
   ]
  },
  {
   "cell_type": "code",
   "execution_count": null,
   "id": "67d94b0b-ef05-4f41-a162-8c72b8a00cdb",
   "metadata": {},
   "outputs": [],
   "source": [
    "# Generating Permutation of Arrays \n",
    "\n",
    "# ***The permutation() method returns a re-arranged array (and leaves the original array un-changed)."
   ]
  },
  {
   "cell_type": "code",
   "execution_count": 25,
   "id": "c328698f-dcc8-46a3-a25d-68ef1c1673a7",
   "metadata": {},
   "outputs": [
    {
     "name": "stdout",
     "output_type": "stream",
     "text": [
      "[2 4 5 3 1]\n"
     ]
    }
   ],
   "source": [
    "from numpy import random\n",
    "import numpy as np\n",
    "\n",
    "arr = np.array([1, 2, 3, 4, 5])\n",
    "\n",
    "print(random.permutation(arr))"
   ]
  },
  {
   "cell_type": "code",
   "execution_count": null,
   "id": "a688075b-4ddc-451c-81e7-69966428246e",
   "metadata": {},
   "outputs": [],
   "source": []
  }
 ],
 "metadata": {
  "kernelspec": {
   "display_name": "Python 3 (ipykernel)",
   "language": "python",
   "name": "python3"
  },
  "language_info": {
   "codemirror_mode": {
    "name": "ipython",
    "version": 3
   },
   "file_extension": ".py",
   "mimetype": "text/x-python",
   "name": "python",
   "nbconvert_exporter": "python",
   "pygments_lexer": "ipython3",
   "version": "3.10.6"
  }
 },
 "nbformat": 4,
 "nbformat_minor": 5
}
