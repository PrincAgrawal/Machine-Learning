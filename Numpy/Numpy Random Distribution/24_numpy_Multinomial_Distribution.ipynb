{
 "cells": [
  {
   "cell_type": "code",
   "execution_count": 7,
   "id": "75039f78-139f-4cc7-ad6c-a3bd1332b9ee",
   "metadata": {},
   "outputs": [
    {
     "name": "stdout",
     "output_type": "stream",
     "text": [
      "[1 1 1 0 1 2]\n"
     ]
    }
   ],
   "source": [
    "# Multinomial Distribution..........\n",
    "# Multinomial distribution is a generalization of binomial distribution.\n",
    "\n",
    "# It describes outcomes of multi-nomial scenarios unlike binomial where scenarios must be only one of two. e.g. Blood type of a population, dice roll outcome.\n",
    "\n",
    "# It has three parameters:\n",
    "\n",
    "# n - number of possible outcomes (e.g. 6 for dice roll).\n",
    "\n",
    "# pvals - list of probabilties of outcomes (e.g. [1/6, 1/6, 1/6, 1/6, 1/6, 1/6] for dice roll).\n",
    "\n",
    "# size - The shape of the returned array.\n",
    "\n",
    "\n",
    "\n",
    "from numpy import random\n",
    "\n",
    "x = random.multinomial(n=6, pvals=[1/6, 1/6, 1/6, 1/6, 1/6, 1/6])\n",
    "\n",
    "print(x)"
   ]
  },
  {
   "cell_type": "code",
   "execution_count": null,
   "id": "42dcee25-df41-45d1-bba2-eb4c0e659b79",
   "metadata": {},
   "outputs": [],
   "source": []
  },
  {
   "cell_type": "code",
   "execution_count": null,
   "id": "b4b0f081-6f01-4755-903a-faedbb50723a",
   "metadata": {},
   "outputs": [],
   "source": []
  }
 ],
 "metadata": {
  "kernelspec": {
   "display_name": "Python 3 (ipykernel)",
   "language": "python",
   "name": "python3"
  },
  "language_info": {
   "codemirror_mode": {
    "name": "ipython",
    "version": 3
   },
   "file_extension": ".py",
   "mimetype": "text/x-python",
   "name": "python",
   "nbconvert_exporter": "python",
   "pygments_lexer": "ipython3",
   "version": "3.10.6"
  }
 },
 "nbformat": 4,
 "nbformat_minor": 5
}
