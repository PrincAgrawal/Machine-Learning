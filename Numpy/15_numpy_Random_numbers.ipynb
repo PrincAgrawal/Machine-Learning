{
 "cells": [
  {
   "cell_type": "code",
   "execution_count": 2,
   "id": "ba9d5ee8-6815-4923-863e-ee9d6d089ac4",
   "metadata": {},
   "outputs": [],
   "source": [
    "import numpy as np"
   ]
  },
  {
   "cell_type": "code",
   "execution_count": null,
   "id": "ee2364a5-6f52-4b28-b896-e7c842962ee4",
   "metadata": {},
   "outputs": [],
   "source": [
    "# What is a Random Number ?\n",
    "#   Random means something that can not be predicted logically.\n",
    "\n",
    "# Yes. In order to generate a truly random number on our computers we need to get the random data from some outside source. This outside source is generally our keystrokes, mouse movements, data on network etc."
   ]
  },
  {
   "cell_type": "code",
   "execution_count": 3,
   "id": "00eb8448-12d5-4281-81bb-a0655de3dd65",
   "metadata": {},
   "outputs": [],
   "source": [
    "from numpy import random"
   ]
  },
  {
   "cell_type": "code",
   "execution_count": 6,
   "id": "3084b6fb-100e-41bd-b49d-103b948d230c",
   "metadata": {},
   "outputs": [
    {
     "name": "stdout",
     "output_type": "stream",
     "text": [
      "11\n"
     ]
    }
   ],
   "source": [
    "# Generate a random integer from 0 to 100:\n",
    "\n",
    "x=random.randint(100)\n",
    "print(x)"
   ]
  },
  {
   "cell_type": "code",
   "execution_count": 9,
   "id": "e1fdb236-129c-455a-ba05-977a57b2083e",
   "metadata": {},
   "outputs": [
    {
     "name": "stdout",
     "output_type": "stream",
     "text": [
      "0.42126273794498037\n"
     ]
    }
   ],
   "source": [
    "# Generate Random Float\n",
    "# The random module's rand() method returns a random float between 0 and 1.\n",
    "\n",
    "x = random.rand()\n",
    "\n",
    "print(x)"
   ]
  },
  {
   "cell_type": "code",
   "execution_count": 10,
   "id": "f67a4108-5cea-4683-bf58-6be69138509f",
   "metadata": {},
   "outputs": [
    {
     "name": "stdout",
     "output_type": "stream",
     "text": [
      "[37 49 39  3 11]\n"
     ]
    }
   ],
   "source": [
    "# Generate a 1-D array containing 5 random integers from 0 to 100:\n",
    "\n",
    "x=random.randint(50,size=(5))\n",
    "print(x)"
   ]
  },
  {
   "cell_type": "code",
   "execution_count": 12,
   "id": "503ccc46-3de7-4148-a75e-7c4225957a58",
   "metadata": {},
   "outputs": [
    {
     "name": "stdout",
     "output_type": "stream",
     "text": [
      "[[23 14  9  0  6]\n",
      " [22 48 33 18 47]\n",
      " [44 21  5 30 13]]\n"
     ]
    }
   ],
   "source": [
    "# Generate a 2-D array with 3 rows, each row containing 5 random integers from 0 to 100:\n",
    "\n",
    "from numpy import random\n",
    "\n",
    "x = random.randint(50, size=(3, 5))\n",
    "\n",
    "print(x)                                                                                                             "
   ]
  },
  {
   "cell_type": "code",
   "execution_count": 13,
   "id": "5f85fdfd-efd7-45b4-a1b3-f0dfa14ebabd",
   "metadata": {},
   "outputs": [
    {
     "name": "stdout",
     "output_type": "stream",
     "text": [
      "[0.73977482 0.70396268 0.63506756 0.23587628 0.73291027]\n"
     ]
    }
   ],
   "source": [
    "# Generate a 1-D array containing 5 random floats:\n",
    "\n",
    "from numpy import random\n",
    "\n",
    "x = random.rand(5)\n",
    "\n",
    "print(x)"
   ]
  },
  {
   "cell_type": "code",
   "execution_count": 20,
   "id": "291c488c-8d83-436a-997d-2b468bf20e8f",
   "metadata": {},
   "outputs": [
    {
     "name": "stdout",
     "output_type": "stream",
     "text": [
      "[[0.04825503 0.79925891 0.2799176  0.09017123 0.67857135]\n",
      " [0.46794737 0.57353901 0.50427134 0.4244382  0.4556197 ]\n",
      " [0.01271374 0.34430649 0.43381011 0.52460032 0.71765066]]\n"
     ]
    }
   ],
   "source": [
    "# Generate a 2-D array with 3 rows, each row containing 5 random numbers:\n",
    "\n",
    "from numpy import random\n",
    "\n",
    "x = random.rand(3, 5)\n",
    "\n",
    "print(x)"
   ]
  },
  {
   "cell_type": "code",
   "execution_count": null,
   "id": "f77a161a-6c1d-4a94-bf37-ae9ac65d34ed",
   "metadata": {},
   "outputs": [],
   "source": [
    "# Generate Random Number From Array\n",
    "# The choice() method allows you to generate a random value based on an array of values.\n",
    "\n",
    "# The choice() method takes an array as a parameter and randomly returns one of the values.\n",
    "\n"
   ]
  },
  {
   "cell_type": "code",
   "execution_count": 26,
   "id": "32ceb014-a807-4240-840e-a7ba2e58114d",
   "metadata": {},
   "outputs": [
    {
     "name": "stdout",
     "output_type": "stream",
     "text": [
      "1\n"
     ]
    }
   ],
   "source": [
    "from numpy import random\n",
    "\n",
    "x = random.choice([1,2,3,4,5,6])\n",
    "\n",
    "print(x)"
   ]
  },
  {
   "cell_type": "code",
   "execution_count": 22,
   "id": "6eb4fc8a-73f7-41da-9813-06314c1b3542",
   "metadata": {},
   "outputs": [
    {
     "name": "stdout",
     "output_type": "stream",
     "text": [
      "[[5 7 7 9 7]\n",
      " [7 3 3 7 7]\n",
      " [7 7 3 7 7]]\n"
     ]
    }
   ],
   "source": [
    "from numpy import random\n",
    "\n",
    "x = random.choice([3, 5, 7, 9], size=(3, 5))\n",
    "\n",
    "print(x)"
   ]
  },
  {
   "cell_type": "code",
   "execution_count": null,
   "id": "a5d15157-812c-47f9-924d-4feb1546713e",
   "metadata": {},
   "outputs": [],
   "source": []
  }
 ],
 "metadata": {
  "kernelspec": {
   "display_name": "Python 3 (ipykernel)",
   "language": "python",
   "name": "python3"
  },
  "language_info": {
   "codemirror_mode": {
    "name": "ipython",
    "version": 3
   },
   "file_extension": ".py",
   "mimetype": "text/x-python",
   "name": "python",
   "nbconvert_exporter": "python",
   "pygments_lexer": "ipython3",
   "version": "3.10.6"
  }
 },
 "nbformat": 4,
 "nbformat_minor": 5
}
