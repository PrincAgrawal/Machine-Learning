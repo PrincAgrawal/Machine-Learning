{
 "cells": [
  {
   "cell_type": "code",
   "execution_count": null,
   "id": "06cb8ea0-d4ca-466e-b171-76f7fbf34d62",
   "metadata": {},
   "outputs": [],
   "source": [
    "# Random Distribution -->\n",
    "# A random distribution is a set of random numbers that follow a certain probability density function.\n",
    "\n",
    "\n",
    "# Probability Density Function (pdf): A function that describes a continuous probability.\n",
    "# i.e. probability of all values in an array."
   ]
  },
  {
   "cell_type": "code",
   "execution_count": 13,
   "id": "b947c196-efa7-4ce8-a142-7a0751ac22a6",
   "metadata": {},
   "outputs": [],
   "source": [
    "# We can generate random numbers based on defined probabilities using the choice() method of the random module.\n",
    "\n",
    "# The choice() method allows us to specify the probability for each value.\n",
    "\n",
    "# The probability is set by a number between 0 and 1, where 0 means that the value will never occur and 1 means that the value will always occur."
   ]
  },
  {
   "cell_type": "code",
   "execution_count": 23,
   "id": "7c00d47b-957a-423d-a398-7bc7e5c2f7ba",
   "metadata": {},
   "outputs": [
    {
     "name": "stdout",
     "output_type": "stream",
     "text": [
      "[7 5 7 7 5 7 7 5 5 7 5 7 7 7 5 5 7 3 7 7 7 7 5 7 7 5 3 7 7 5 5 7 7 7 5 7 7\n",
      " 7 7 7 5 7 7 7 7 5 5 7 5 5 7 5 7 7 7 7 3 7 5 7 7 7 7 5 5 7 3 7 3 7 3 7 7 5\n",
      " 7 5 7 5 5 7 5 7 5 5 7 5 7 7 5 7 7 5 7 7 5 5 7 7 7 5]\n"
     ]
    }
   ],
   "source": [
    "# Example - \n",
    "# Generate a 1-D array containing 100 values, where each value has to be 3, 5, 7 or 9.\n",
    "\n",
    "# The probability for the value to be 3 is set to be 0.1\n",
    "\n",
    "# The probability for the value to be 5 is set to be 0.3\n",
    "\n",
    "# The probability for the value to be 7 is set to be 0.6\n",
    "\n",
    "# The probability for the value to be 9 is set to be 0.0\n",
    "\n",
    "\n",
    "from numpy import random\n",
    "\n",
    "x = random.choice([3, 5, 7, 9], p=[0.1, 0.3, 0.6, 0.0], size=(100))\n",
    "\n",
    "print(x)\n",
    "\n",
    "# The sum of all probability numbers should be 1.\n"
   ]
  },
  {
   "cell_type": "code",
   "execution_count": 24,
   "id": "5f884f7d-661b-4d22-a6f2-79a38ccb6763",
   "metadata": {},
   "outputs": [
    {
     "name": "stdout",
     "output_type": "stream",
     "text": [
      "[[7 5 7 7 5]\n",
      " [7 7 7 5 5]\n",
      " [5 7 7 7 7]]\n"
     ]
    }
   ],
   "source": [
    "from numpy import random\n",
    "\n",
    "x = random.choice([3, 5, 7, 9], p=[0.1, 0.3, 0.6, 0.0], size=(3, 5))\n",
    "\n",
    "print(x)"
   ]
  },
  {
   "cell_type": "code",
   "execution_count": null,
   "id": "b6664ff1-a7a4-4a93-a0f7-9281963158c9",
   "metadata": {},
   "outputs": [],
   "source": []
  }
 ],
 "metadata": {
  "kernelspec": {
   "display_name": "Python 3 (ipykernel)",
   "language": "python",
   "name": "python3"
  },
  "language_info": {
   "codemirror_mode": {
    "name": "ipython",
    "version": 3
   },
   "file_extension": ".py",
   "mimetype": "text/x-python",
   "name": "python",
   "nbconvert_exporter": "python",
   "pygments_lexer": "ipython3",
   "version": "3.10.6"
  }
 },
 "nbformat": 4,
 "nbformat_minor": 5
}
