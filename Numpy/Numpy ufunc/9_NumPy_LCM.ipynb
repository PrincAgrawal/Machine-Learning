{
 "cells": [
  {
   "cell_type": "markdown",
   "id": "3ca7004b-0ea7-4cda-8044-be20681fde25",
   "metadata": {},
   "source": [
    "# NumPy LCM Lowest Common Multiple\n"
   ]
  },
  {
   "cell_type": "markdown",
   "id": "8e28527e-294e-4268-9eed-8ea1f63ddfaf",
   "metadata": {},
   "source": [
    "### Finding LCM (Lowest Common Multiple) :-\n",
    "\n",
    "The Lowest Common Multiple is the smallest number that is a common multiple of two numbers."
   ]
  },
  {
   "cell_type": "code",
   "execution_count": 5,
   "id": "a2b3a7a5-156a-4aad-9aa7-cf65e2305397",
   "metadata": {},
   "outputs": [
    {
     "name": "stdout",
     "output_type": "stream",
     "text": [
      "12\n"
     ]
    }
   ],
   "source": [
    "import numpy as np\n",
    "\n",
    "num1 = 4\n",
    "num2 = 6\n",
    "\n",
    "x = np.lcm(num1, num2)\n",
    "\n",
    "print(x)"
   ]
  },
  {
   "cell_type": "markdown",
   "id": "06b469d3-f0b2-4746-aa27-22f5f1216489",
   "metadata": {},
   "source": [
    "### Finding LCM in Arrays :-\n",
    "To find the Lowest Common Multiple of all values in an array, you can use the reduce() method."
   ]
  },
  {
   "cell_type": "code",
   "execution_count": 8,
   "id": "57fab7f4-97e8-473f-9af7-4cfc7ba1d48d",
   "metadata": {},
   "outputs": [
    {
     "name": "stdout",
     "output_type": "stream",
     "text": [
      "18\n"
     ]
    }
   ],
   "source": [
    "arr = np.array([3, 6, 9])\n",
    "\n",
    "x = np.lcm.reduce(arr)\n",
    "\n",
    "print(x)"
   ]
  },
  {
   "cell_type": "markdown",
   "id": "7e280cf3-ab94-4d43-b97d-e4fa63ce8899",
   "metadata": {},
   "source": [
    "Find the LCM of all values of an array where the array contains all integers from 1 to 10:"
   ]
  }
 ],
 "metadata": {
  "kernelspec": {
   "display_name": "Python 3 (ipykernel)",
   "language": "python",
   "name": "python3"
  },
  "language_info": {
   "codemirror_mode": {
    "name": "ipython",
    "version": 3
   },
   "file_extension": ".py",
   "mimetype": "text/x-python",
   "name": "python",
   "nbconvert_exporter": "python",
   "pygments_lexer": "ipython3",
   "version": "3.10.6"
  }
 },
 "nbformat": 4,
 "nbformat_minor": 5
}
