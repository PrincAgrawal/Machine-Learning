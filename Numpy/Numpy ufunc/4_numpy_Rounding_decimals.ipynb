{
 "cells": [
  {
   "cell_type": "markdown",
   "id": "d9205f5b-4a0d-4679-8be0-041f8f30109a",
   "metadata": {},
   "source": [
    "# Rounding Decimals"
   ]
  },
  {
   "cell_type": "markdown",
   "id": "8ac59100-a5c4-413c-8975-e9fe86757580",
   "metadata": {},
   "source": [
    "\n",
    "\n",
    "\n",
    "\n"
   ]
  },
  {
   "cell_type": "raw",
   "id": "c7778ef5-399f-400d-94be-28b947feab07",
   "metadata": {},
   "source": [
    "There are primarily five ways of rounding off decimals in NumPy:\n",
    "\n",
    "1.truncation - trunc()\n",
    "2.fix - fix()\n",
    "3.rounding - around()\n",
    "4.floor - floor()\n",
    "5.ceil - ceil()\n"
   ]
  },
  {
   "cell_type": "code",
   "execution_count": 6,
   "id": "40daaa95-d71c-4476-9b4a-3dfd039154bd",
   "metadata": {},
   "outputs": [
    {
     "name": "stdout",
     "output_type": "stream",
     "text": [
      "3.167\n"
     ]
    }
   ],
   "source": [
    "import numpy as np\n",
    "\n",
    "arr = np.trunc([-3.1666, 3.6667])\n",
    "arr = np.fix([-3.1666, 3.6667])\n",
    "\n",
    "print(arr) "
   ]
  },
  {
   "cell_type": "raw",
   "id": "1c048511-ccc5-4b62-8232-8bf3e8573ab9",
   "metadata": {},
   "source": [
    "** Rounding :-\n",
    "The around() function increments preceding digit or decimal by 1 if >=5 else do nothing.\n",
    "\n",
    "E.g. round off to 1 decimal point, 3.16666 is 3.2"
   ]
  },
  {
   "cell_type": "raw",
   "id": "7f45ef2a-aa71-4678-bcbe-92bd2788dbd3",
   "metadata": {},
   "source": [
    "** Floor :-\n",
    "The floor() function rounds off decimal to nearest lower integer.\n",
    "\n",
    "E.g. floor of 3.166 is 3."
   ]
  },
  {
   "cell_type": "code",
   "execution_count": 12,
   "id": "1030c6fc-2b01-4475-9467-20cd577f4230",
   "metadata": {},
   "outputs": [
    {
     "name": "stdout",
     "output_type": "stream",
     "text": [
      "[-4.  3.]\n"
     ]
    }
   ],
   "source": [
    "arr = np.floor([-3.1666, 3.6667])\n",
    "print(arr)"
   ]
  },
  {
   "cell_type": "raw",
   "id": "67f972b3-5d80-4fff-81d6-27245a9edcaf",
   "metadata": {},
   "source": [
    "** Ceil :-\n",
    "The ceil() function rounds off decimal to nearest upper integer.\n",
    "\n",
    "E.g. ceil of 3.166 is 4."
   ]
  },
  {
   "cell_type": "code",
   "execution_count": 13,
   "id": "83dde0fd-877e-4633-9dbb-4b63b376e002",
   "metadata": {},
   "outputs": [
    {
     "name": "stdout",
     "output_type": "stream",
     "text": [
      "[-3.  4.]\n"
     ]
    }
   ],
   "source": [
    "import numpy as np\n",
    "\n",
    "arr = np.ceil([-3.1666, 3.6667])\n",
    "\n",
    "print(arr)"
   ]
  },
  {
   "cell_type": "code",
   "execution_count": null,
   "id": "360a68f4-6a51-4cef-98cf-a5cd52f8315a",
   "metadata": {},
   "outputs": [],
   "source": []
  }
 ],
 "metadata": {
  "kernelspec": {
   "display_name": "Python 3 (ipykernel)",
   "language": "python",
   "name": "python3"
  },
  "language_info": {
   "codemirror_mode": {
    "name": "ipython",
    "version": 3
   },
   "file_extension": ".py",
   "mimetype": "text/x-python",
   "name": "python",
   "nbconvert_exporter": "python",
   "pygments_lexer": "ipython3",
   "version": "3.10.6"
  }
 },
 "nbformat": 4,
 "nbformat_minor": 5
}
