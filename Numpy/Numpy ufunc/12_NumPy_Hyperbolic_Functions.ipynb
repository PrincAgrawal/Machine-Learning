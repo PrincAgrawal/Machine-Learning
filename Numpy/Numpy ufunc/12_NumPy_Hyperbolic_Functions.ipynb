{
 "cells": [
  {
   "cell_type": "markdown",
   "id": "d742ef3a-c663-4692-8da8-d392bb26aaa9",
   "metadata": {},
   "source": [
    "# NumPy Hyperbolic Functions :-\n",
    "\n",
    "### Hyperbolic Functions -\n",
    "\n",
    "NumPy provides the ufuncs sinh(), cosh() and tanh() that take values in radians and produce the corresponding sinh, cosh and tanh values.."
   ]
  },
  {
   "cell_type": "code",
   "execution_count": 8,
   "id": "5b2f009e-97dd-4a84-a843-2d649d84ba93",
   "metadata": {},
   "outputs": [
    {
     "name": "stdout",
     "output_type": "stream",
     "text": [
      "2.3012989023072947\n"
     ]
    }
   ],
   "source": [
    "import numpy as np\n",
    "\n",
    "x = np.sinh(np.pi/2)   \n",
    "\n",
    "print(x)"
   ]
  },
  {
   "cell_type": "code",
   "execution_count": 9,
   "id": "0aa7a131-728e-4903-81a8-e728bc576852",
   "metadata": {},
   "outputs": [
    {
     "name": "stdout",
     "output_type": "stream",
     "text": [
      "[2.50917848 1.60028686 1.32460909 1.20397209]\n"
     ]
    }
   ],
   "source": [
    "arr = np.array([np.pi/2, np.pi/3, np.pi/4, np.pi/5])\n",
    "\n",
    "x = np.cosh(arr)\n",
    "\n",
    "print(x) "
   ]
  },
  {
   "cell_type": "markdown",
   "id": "3b9e032d-96ee-4b2c-8b3e-a07f6aa10a71",
   "metadata": {},
   "source": [
    "### Finding Angles :-\n",
    "\n",
    "Finding angles from values of hyperbolic sine, cos, tan. E.g. sinh, cosh and tanh inverse (arcsinh, arccosh, arctanh).\n",
    "\n",
    "Numpy provides ufuncs arcsinh(), arccosh() and arctanh() that produce radian values for corresponding sinh, cosh and tanh values given."
   ]
  },
  {
   "cell_type": "code",
   "execution_count": 12,
   "id": "7db9adf1-675a-47c1-9609-7195c62e4598",
   "metadata": {},
   "outputs": [
    {
     "name": "stdout",
     "output_type": "stream",
     "text": [
      "0.881373587019543\n"
     ]
    }
   ],
   "source": [
    "x = np.arcsinh(1.0) \n",
    "\n",
    "print(x)"
   ]
  },
  {
   "cell_type": "code",
   "execution_count": 13,
   "id": "3f1a2e06-f10b-4ad6-8aa1-a2d431b17f36",
   "metadata": {},
   "outputs": [
    {
     "name": "stdout",
     "output_type": "stream",
     "text": [
      "[0.10033535 0.20273255 0.54930614]\n"
     ]
    }
   ],
   "source": [
    "arr = np.array([0.1, 0.2, 0.5])\n",
    "\n",
    "x = np.arctanh(arr)\n",
    "\n",
    "print(x)"
   ]
  },
  {
   "cell_type": "code",
   "execution_count": null,
   "id": "b4f173ed-6d66-4278-97fa-2c171db5e1ca",
   "metadata": {},
   "outputs": [],
   "source": []
  }
 ],
 "metadata": {
  "kernelspec": {
   "display_name": "Python 3 (ipykernel)",
   "language": "python",
   "name": "python3"
  },
  "language_info": {
   "codemirror_mode": {
    "name": "ipython",
    "version": 3
   },
   "file_extension": ".py",
   "mimetype": "text/x-python",
   "name": "python",
   "nbconvert_exporter": "python",
   "pygments_lexer": "ipython3",
   "version": "3.10.6"
  }
 },
 "nbformat": 4,
 "nbformat_minor": 5
}
