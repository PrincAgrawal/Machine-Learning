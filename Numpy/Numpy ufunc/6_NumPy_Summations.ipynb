{
 "cells": [
  {
   "cell_type": "markdown",
   "id": "05d0b3b0-ac14-42b3-99b1-3d0b9b894f7e",
   "metadata": {},
   "source": [
    "# NumPy Summations :- \n",
    "\n",
    "#### Summations -\r\n",
    "What is the difference between summation and addition?\r\n",
    "\r\n",
    "Addition is done between two arguments whereas summation happens over n elements."
   ]
  },
  {
   "cell_type": "code",
   "execution_count": 4,
   "id": "cbfd6cb4-0eac-44e9-a1b3-729362e687e6",
   "metadata": {},
   "outputs": [
    {
     "name": "stdout",
     "output_type": "stream",
     "text": [
      "[2 4 6]\n"
     ]
    }
   ],
   "source": [
    "import numpy as np\n",
    "\n",
    "arr1 = np.array([1, 2, 3])\n",
    "arr2 = np.array([1, 2, 3])\n",
    "\n",
    "newarr = np.add(arr1, arr2)\n",
    "\n",
    "print(newarr)"
   ]
  },
  {
   "cell_type": "code",
   "execution_count": 7,
   "id": "3b0b841c-b464-4eb9-a66d-a04e17484eb8",
   "metadata": {},
   "outputs": [
    {
     "name": "stdout",
     "output_type": "stream",
     "text": [
      "12\n"
     ]
    }
   ],
   "source": [
    "arr1 = np.array([1, 2, 3])\n",
    "arr2 = np.array([1, 2, 3])\n",
    "\n",
    "newarr = np.sum([arr1, arr2])\n",
    "\n",
    "print(newarr)"
   ]
  },
  {
   "cell_type": "markdown",
   "id": "0eec25ef-7953-4d7b-8831-f86699950a9e",
   "metadata": {},
   "source": [
    "### Summation Over an Axis :-\n",
    "\n",
    "If you specify axis=1, NumPy will sum the numbers in each array.\n",
    "\n",
    "If you specify axis=0, NumPy will sum the numbers in each column."
   ]
  },
  {
   "cell_type": "code",
   "execution_count": 12,
   "id": "bdb4147f-1e56-46c2-88c8-bba1453bcd89",
   "metadata": {},
   "outputs": [
    {
     "name": "stdout",
     "output_type": "stream",
     "text": [
      "[6 6]\n",
      "[2 4 6]\n"
     ]
    }
   ],
   "source": [
    "arr1 = np.array([1, 2, 3])\n",
    "arr2 = np.array([1, 2, 3])\n",
    "\n",
    "newarr = np.sum([arr1, arr2], axis=1)\n",
    "print(newarr)\n",
    "\n",
    "newarr = np.sum([arr1, arr2], axis=0)\n",
    "print(newarr)"
   ]
  },
  {
   "cell_type": "markdown",
   "id": "f49e9adf-b532-41bb-95e8-3f7f1b4292ef",
   "metadata": {},
   "source": [
    "### Cummulative Sum\n",
    "Cummulative sum means partially adding the elements in array.\n",
    "\n",
    "E.g. The partial sum of [1, 2, 3, 4] would be [1, 1+2, 1+2+3, 1+2+3+4] = [1, 3, 6, 10].\n",
    "\n",
    "Perfom partial sum with the cumsum() function."
   ]
  },
  {
   "cell_type": "code",
   "execution_count": null,
   "id": "bf7ab05f-3cbb-4adc-b0fc-8ac6175d40e4",
   "metadata": {},
   "outputs": [],
   "source": []
  }
 ],
 "metadata": {
  "kernelspec": {
   "display_name": "Python 3 (ipykernel)",
   "language": "python",
   "name": "python3"
  },
  "language_info": {
   "codemirror_mode": {
    "name": "ipython",
    "version": 3
   },
   "file_extension": ".py",
   "mimetype": "text/x-python",
   "name": "python",
   "nbconvert_exporter": "python",
   "pygments_lexer": "ipython3",
   "version": "3.10.6"
  }
 },
 "nbformat": 4,
 "nbformat_minor": 5
}
