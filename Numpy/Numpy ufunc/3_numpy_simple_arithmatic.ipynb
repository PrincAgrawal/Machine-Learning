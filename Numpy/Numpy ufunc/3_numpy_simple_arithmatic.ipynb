{
 "cells": [
  {
   "cell_type": "markdown",
   "id": "5f706521-861d-4f50-905b-25001a6e7ca5",
   "metadata": {},
   "source": [
    "# Simple Arithmetic"
   ]
  },
  {
   "cell_type": "raw",
   "id": "a983b1c1-f383-416a-a61d-0e8f30125ed3",
   "metadata": {},
   "source": [
    "You could use arithmetic operators + - * / directly between NumPy arrays, but this section discusses an extension of the same where we have functions that can take any array-like objects e.g. lists, tuples etc. and perform arithmetic conditionally."
   ]
  },
  {
   "cell_type": "raw",
   "id": "9293e4e2-0c2a-4c84-8f1c-afb6164c4a7c",
   "metadata": {},
   "source": [
    "** Addition :-\n",
    "The add() function sums the content of two arrays, and return the results in a new array."
   ]
  },
  {
   "cell_type": "code",
   "execution_count": 2,
   "id": "523e026c-5f32-4121-bca9-61b6073ae068",
   "metadata": {},
   "outputs": [],
   "source": [
    "import numpy as np"
   ]
  },
  {
   "cell_type": "code",
   "execution_count": 3,
   "id": "78fb8bb5-a5db-45a2-957a-8d66d7de26a1",
   "metadata": {},
   "outputs": [
    {
     "name": "stdout",
     "output_type": "stream",
     "text": [
      "[ 2  4  6  8 10 12]\n"
     ]
    }
   ],
   "source": [
    "arr1=np.array([1,2,3,4,5,6])\n",
    "arr2=np.array([1,2,3,4,5,6])\n",
    "\n",
    "newarr=np.add(arr1,arr2)\n",
    "print(newarr)"
   ]
  },
  {
   "cell_type": "raw",
   "id": "f6a5ea6a-8e45-423b-aadb-508085807aa3",
   "metadata": {},
   "source": [
    "**Subtraction :-\n",
    "The subtract() function subtracts the values from one array with the values from another array, and return the results in a new array."
   ]
  },
  {
   "cell_type": "code",
   "execution_count": 6,
   "id": "f363527d-40ae-4428-b883-1fbaa9c76352",
   "metadata": {},
   "outputs": [
    {
     "name": "stdout",
     "output_type": "stream",
     "text": [
      "[ 7 -3 54 23  3  0]\n"
     ]
    }
   ],
   "source": [
    "arr1=np.array([10,2,56,29,10,3])\n",
    "arr2=np.array([3,5,2,6,7,3])\n",
    "\n",
    "newarr=np.subtract(arr1,arr2)\n",
    "print(newarr)"
   ]
  },
  {
   "cell_type": "raw",
   "id": "ee12625a-9484-435f-bc68-e81c5f697f6f",
   "metadata": {},
   "source": [
    "** Multiplication :-\n",
    "The multiply() function multiplies the values from one array with the values from another array, and return the results in a new array."
   ]
  },
  {
   "cell_type": "code",
   "execution_count": 7,
   "id": "aff05298-6d5a-4f1d-8eb6-35ca19406907",
   "metadata": {},
   "outputs": [
    {
     "name": "stdout",
     "output_type": "stream",
     "text": [
      "[ 30  10 112 174  70   9]\n"
     ]
    }
   ],
   "source": [
    "arr1=np.array([10,2,56,29,10,3])\n",
    "arr2=np.array([3,5,2,6,7,3])\n",
    "\n",
    "newarr=np.multiply(arr1,arr2)\n",
    "print(newarr)"
   ]
  },
  {
   "cell_type": "raw",
   "id": "74fada73-ea32-45b5-a7db-801c1714682a",
   "metadata": {},
   "source": [
    "** Division :-\n",
    "The divide() function divides the values from one array with the values from another array, and return the results in a new array."
   ]
  },
  {
   "cell_type": "code",
   "execution_count": 9,
   "id": "dd4e6128-3974-48bc-8164-962fc8142e61",
   "metadata": {},
   "outputs": [
    {
     "name": "stdout",
     "output_type": "stream",
     "text": [
      "[ 3.33333333  4.          3.          5.         25.          1.81818182]\n"
     ]
    }
   ],
   "source": [
    "\n",
    "arr1 = np.array([10, 20, 30, 40, 50, 60])\n",
    "arr2 = np.array([3, 5, 10, 8, 2, 33])\n",
    "\n",
    "newarr = np.divide(arr1, arr2)\n",
    "\n",
    "print(newarr)"
   ]
  },
  {
   "cell_type": "raw",
   "id": "d92df8f4-aca3-4c3c-a8cc-27e61c6a3c4d",
   "metadata": {},
   "source": [
    "** Power :-\n",
    "The power() function rises the values from the first array to the power of the values of the second array, and return the results in a new array."
   ]
  },
  {
   "cell_type": "code",
   "execution_count": 11,
   "id": "ac4f3ae4-9ab5-496d-8b23-0bdcdf73c6a1",
   "metadata": {},
   "outputs": [
    {
     "name": "stdout",
     "output_type": "stream",
     "text": [
      "[      1000    3200000  716276736 -520093696       2500          0]\n"
     ]
    }
   ],
   "source": [
    "arr1 = np.array([10, 20, 30, 40, 50, 60])\n",
    "arr2 = np.array([3, 5, 10, 8, 2, 33])\n",
    "\n",
    "newarr = np.power(arr1, arr2)\n",
    "\n",
    "print(newarr)"
   ]
  },
  {
   "cell_type": "raw",
   "id": "72aca0a7-997f-41e2-b014-7d91e806818c",
   "metadata": {},
   "source": [
    "** Remainder :-\n",
    "Both the mod() and the remainder() functions return the remainder of the values in the first array corresponding to the values in the second array, and return the results in a new array."
   ]
  },
  {
   "cell_type": "code",
   "execution_count": 12,
   "id": "bfe4d5be-8edd-4a85-89ce-2a246566b4b1",
   "metadata": {},
   "outputs": [
    {
     "name": "stdout",
     "output_type": "stream",
     "text": [
      "[ 1  0  0  0  0 27]\n"
     ]
    }
   ],
   "source": [
    "arr1 = np.array([10, 20, 30, 40, 50, 60])\n",
    "arr2 = np.array([3, 5, 10, 8, 2, 33])\n",
    "\n",
    "newarr = np.mod(arr1, arr2)\n",
    "\n",
    "print(newarr)"
   ]
  },
  {
   "cell_type": "markdown",
   "id": "be43ea45-3580-44ac-872d-98a30bdf41ae",
   "metadata": {},
   "source": [
    " You get the same result when using the remainder() function:"
   ]
  },
  {
   "cell_type": "raw",
   "id": "84e52071-3e16-4233-97e4-d78ee278ed69",
   "metadata": {},
   "source": [
    "** Quotient and Mod :-\n",
    "The divmod() function return both the quotient and the the mod. The return value is two arrays, the first array contains the quotient and second array contains the mod."
   ]
  },
  {
   "cell_type": "code",
   "execution_count": 13,
   "id": "4cc91ff1-e8ae-4009-9b7c-7d76e4df2806",
   "metadata": {},
   "outputs": [
    {
     "name": "stdout",
     "output_type": "stream",
     "text": [
      "(array([ 3,  2,  3,  5, 25,  1]), array([ 1,  6,  3,  0,  0, 27]))\n"
     ]
    }
   ],
   "source": [
    "arr1 = np.array([10, 20, 30, 40, 50, 60])\n",
    "arr2 = np.array([3, 7, 9, 8, 2, 33])\n",
    "\n",
    "newarr = np.divmod(arr1, arr2)\n",
    "\n",
    "print(newarr)"
   ]
  },
  {
   "cell_type": "raw",
   "id": "ef5c7db3-9edb-4807-87c4-38009d5e7bce",
   "metadata": {},
   "source": [
    "** Absolute Values :-\n",
    "Both the absolute() and the abs() functions do the same absolute operation element-wise but we should use absolute() to avoid confusion with python's inbuilt math.abs()"
   ]
  },
  {
   "cell_type": "code",
   "execution_count": 14,
   "id": "ef296da5-8a7a-4b53-84a1-d3a48f9c5a0e",
   "metadata": {},
   "outputs": [
    {
     "name": "stdout",
     "output_type": "stream",
     "text": [
      "[1 2 1 2 3 4]\n"
     ]
    }
   ],
   "source": [
    "import numpy as np\n",
    "\n",
    "arr = np.array([-1, -2, 1, 2, 3, -4])\n",
    "\n",
    "newarr = np.absolute(arr)\n",
    "\n",
    "print(newarr)"
   ]
  }
 ],
 "metadata": {
  "kernelspec": {
   "display_name": "Python 3 (ipykernel)",
   "language": "python",
   "name": "python3"
  },
  "language_info": {
   "codemirror_mode": {
    "name": "ipython",
    "version": 3
   },
   "file_extension": ".py",
   "mimetype": "text/x-python",
   "name": "python",
   "nbconvert_exporter": "python",
   "pygments_lexer": "ipython3",
   "version": "3.10.6"
  }
 },
 "nbformat": 4,
 "nbformat_minor": 5
}
