{
 "cells": [
  {
   "cell_type": "markdown",
   "id": "03b71ee5-9afa-4334-861e-8ecc636facce",
   "metadata": {},
   "source": [
    "# NumPy Products\r\n"
   ]
  },
  {
   "cell_type": "raw",
   "id": "c650abb3-c1dc-4116-9a5b-478c76a8dc36",
   "metadata": {},
   "source": [
    "** Products :-\n",
    "\n",
    "To find the product of the elements in an array, use the prod() function."
   ]
  },
  {
   "cell_type": "code",
   "execution_count": 1,
   "id": "16abcc49-2e89-4c38-9179-11efd179c2f2",
   "metadata": {},
   "outputs": [
    {
     "name": "stdout",
     "output_type": "stream",
     "text": [
      "24\n"
     ]
    }
   ],
   "source": [
    "import numpy as np\n",
    "\n",
    "arr = np.array([1, 2, 3, 4])\n",
    "\n",
    "x = np.prod(arr)\n",
    "\n",
    "print(x)"
   ]
  },
  {
   "cell_type": "code",
   "execution_count": 3,
   "id": "dbac411c-05d7-4fd5-b07b-6576cb81eafc",
   "metadata": {},
   "outputs": [
    {
     "name": "stdout",
     "output_type": "stream",
     "text": [
      "40320\n"
     ]
    }
   ],
   "source": [
    "\n",
    "arr1 = np.array([1, 2, 3, 4])\n",
    "arr2 = np.array([5, 6, 7, 8])\n",
    "\n",
    "x = np.prod([arr1, arr2])\n",
    "\n",
    "print(x)\n",
    "\n",
    "# Returns: 40320 because 1*2*3*4*5*6*7*8 = 40320"
   ]
  },
  {
   "cell_type": "markdown",
   "id": "2b334af8-ed4f-4433-b3ee-907daf9c6771",
   "metadata": {},
   "source": [
    "### Product Over an Axis :-\n",
    "\n",
    "If you specify axis=1, NumPy will return the product of each array."
   ]
  },
  {
   "cell_type": "code",
   "execution_count": 5,
   "id": "bf0a0a18-3dd6-4a2b-9495-b8b2c0009b52",
   "metadata": {},
   "outputs": [
    {
     "name": "stdout",
     "output_type": "stream",
     "text": [
      "[  24 1680]\n",
      "[ 5 12 21 32]\n"
     ]
    }
   ],
   "source": [
    "arr1 = np.array([1, 2, 3, 4])\n",
    "arr2 = np.array([5, 6, 7, 8])\n",
    "\n",
    "newarr = np.prod([arr1, arr2], axis=1)\n",
    "print(newarr)\n",
    "\n",
    "newarr = np.prod([arr1, arr2], axis=0)\n",
    "print(newarr)"
   ]
  },
  {
   "cell_type": "markdown",
   "id": "416e1ee0-fccb-4228-a007-791301e17a66",
   "metadata": {},
   "source": [
    "### Cummulative Product\n",
    "Cummulative product means taking the product partially.\n",
    "\n",
    "E.g. The partial product of [1, 2, 3, 4] is [1, 1*2, 1*2*3, 1*2*3*4] = [1, 2, 6, 24]\n",
    "\n",
    "Perfom partial sum with the cumprod() function."
   ]
  },
  {
   "cell_type": "code",
   "execution_count": 6,
   "id": "3e57e571-b416-4b8b-a3db-7dfb579b74f3",
   "metadata": {},
   "outputs": [
    {
     "name": "stdout",
     "output_type": "stream",
     "text": [
      "[   5   30  210 1680]\n"
     ]
    }
   ],
   "source": [
    "arr = np.array([5, 6, 7, 8])\n",
    "\n",
    "newarr = np.cumprod(arr)\n",
    "\n",
    "print(newarr)"
   ]
  },
  {
   "cell_type": "code",
   "execution_count": null,
   "id": "e1ac6b34-e440-4add-9a0c-9b9423fc12d8",
   "metadata": {},
   "outputs": [],
   "source": []
  }
 ],
 "metadata": {
  "kernelspec": {
   "display_name": "Python 3 (ipykernel)",
   "language": "python",
   "name": "python3"
  },
  "language_info": {
   "codemirror_mode": {
    "name": "ipython",
    "version": 3
   },
   "file_extension": ".py",
   "mimetype": "text/x-python",
   "name": "python",
   "nbconvert_exporter": "python",
   "pygments_lexer": "ipython3",
   "version": "3.10.6"
  }
 },
 "nbformat": 4,
 "nbformat_minor": 5
}
