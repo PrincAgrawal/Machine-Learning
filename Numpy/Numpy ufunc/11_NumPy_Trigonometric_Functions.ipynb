{
 "cells": [
  {
   "cell_type": "markdown",
   "id": "b67e1407-53e3-47c4-8454-9464b1d42ad0",
   "metadata": {},
   "source": [
    "# NumPy Trigonometric Functions"
   ]
  },
  {
   "cell_type": "markdown",
   "id": "6b34e34a-dc3e-490d-b63a-2c2dabc2ba22",
   "metadata": {},
   "source": [
    "### Trigonometric Functions :-\n",
    "\n",
    "NumPy provides the ufuncs sin(), cos() and tan() that take values in radians and produce the corresponding sin, cos and tan values."
   ]
  },
  {
   "cell_type": "code",
   "execution_count": 5,
   "id": "f1205b0e-b121-466e-8d88-0e1d99884af0",
   "metadata": {},
   "outputs": [
    {
     "name": "stdout",
     "output_type": "stream",
     "text": [
      "1.0\n"
     ]
    }
   ],
   "source": [
    "import numpy as np\n",
    "\n",
    "x = np.sin(np.pi/2)\n",
    "\n",
    "print(x)"
   ]
  },
  {
   "cell_type": "code",
   "execution_count": 6,
   "id": "10ae3210-1962-4a43-a3f4-e61f4aeba7f8",
   "metadata": {},
   "outputs": [
    {
     "name": "stdout",
     "output_type": "stream",
     "text": [
      "[1.         0.8660254  0.70710678 0.58778525]\n"
     ]
    }
   ],
   "source": [
    "arr = np.array([np.pi/2, np.pi/3, np.pi/4, np.pi/5])\n",
    "\n",
    "x = np.sin(arr)\n",
    "\n",
    "print(x)"
   ]
  },
  {
   "cell_type": "markdown",
   "id": "397de676-c547-456b-9c6f-bc0c68bde6c8",
   "metadata": {},
   "source": [
    "## Convert Degrees Into Radians :-\n",
    "\n",
    "By default all of the trigonometric functions take radians as parameters but we can convert radians to degrees and vice versa as well in NumPy.\r\n",
    "\r\n",
    "Note: radians values are pi/180 * degree_values."
   ]
  },
  {
   "cell_type": "code",
   "execution_count": 7,
   "id": "1bf90a29-4eeb-4506-9e24-1bb66d2dd9d7",
   "metadata": {},
   "outputs": [
    {
     "name": "stdout",
     "output_type": "stream",
     "text": [
      "[1.57079633 3.14159265 4.71238898 6.28318531]\n"
     ]
    }
   ],
   "source": [
    "arr = np.array([90, 180, 270, 360])\n",
    "\n",
    "x = np.deg2rad(arr)\n",
    "\n",
    "print(x)"
   ]
  },
  {
   "cell_type": "markdown",
   "id": "ae0a9540-038b-4105-9e81-1c8734a3e7fc",
   "metadata": {},
   "source": [
    "### Radians to Degrees"
   ]
  },
  {
   "cell_type": "code",
   "execution_count": 8,
   "id": "498bbc77-7eee-4e60-9dcc-ee10f69a1dfe",
   "metadata": {},
   "outputs": [
    {
     "name": "stdout",
     "output_type": "stream",
     "text": [
      "[ 90. 180. 270. 360.]\n"
     ]
    }
   ],
   "source": [
    "arr = np.array([np.pi/2, np.pi, 1.5*np.pi, 2*np.pi])\n",
    "\n",
    "x = np.rad2deg(arr)\n",
    "\n",
    "print(x)"
   ]
  },
  {
   "cell_type": "markdown",
   "id": "02293a74-d935-4af1-92b2-6a3a5e6b56f9",
   "metadata": {},
   "source": [
    "### Finding Angles :-\n",
    "\n",
    "Finding angles from values of sine, cos, tan. E.g. sin, cos and tan inverse (arcsin, arccos, arctan).\r\n",
    "\r\n",
    "NumPy provides ufuncs arcsin(), arccos() and arctan() that produce radian values for corresponding sin, cos and tan values given.\n"
   ]
  },
  {
   "cell_type": "code",
   "execution_count": 9,
   "id": "e97b5f93-1675-4684-9d01-134218be9211",
   "metadata": {},
   "outputs": [
    {
     "name": "stdout",
     "output_type": "stream",
     "text": [
      "1.5707963267948966\n"
     ]
    }
   ],
   "source": [
    "\n",
    "x = np.arcsin(1.0)\n",
    "\n",
    "print(x)"
   ]
  },
  {
   "cell_type": "markdown",
   "id": "a854c0c9-d5d4-49eb-a746-dccc5a1e2fe4",
   "metadata": {},
   "source": [
    "### Angles of Each Value in Arrays :-"
   ]
  },
  {
   "cell_type": "code",
   "execution_count": 10,
   "id": "9c0fa2a5-77ea-44c7-a247-02fee684f7fb",
   "metadata": {},
   "outputs": [
    {
     "name": "stdout",
     "output_type": "stream",
     "text": [
      "[ 1.57079633 -1.57079633  0.10016742]\n"
     ]
    }
   ],
   "source": [
    "arr = np.array([1, -1, 0.1])\n",
    "\n",
    "x = np.arcsin(arr)\n",
    "\n",
    "print(x)"
   ]
  },
  {
   "cell_type": "markdown",
   "id": "3d6b15cb-d34e-4bf0-a2a6-2ff57f825acc",
   "metadata": {},
   "source": [
    "### Hypotenues :-\n",
    "\n",
    "Finding hypotenues using pythagoras theorem in NumPy.\n",
    "\n",
    "NumPy provides the hypot( ) function that takes the base and perpendicular values and produces hypotenues based on pythagoras theorem."
   ]
  },
  {
   "cell_type": "code",
   "execution_count": 14,
   "id": "8eae3857-ad8f-4810-b284-481a1f865aba",
   "metadata": {},
   "outputs": [
    {
     "name": "stdout",
     "output_type": "stream",
     "text": [
      "5.0\n"
     ]
    }
   ],
   "source": [
    "base = 3\n",
    "perpendicular = 4\n",
    "\n",
    "x = np.hypot(base, perp)\n",
    "\n",
    "print(x)"
   ]
  },
  {
   "cell_type": "code",
   "execution_count": null,
   "id": "e78f1555-3299-4b7a-b146-c0a1c2b00c5b",
   "metadata": {},
   "outputs": [],
   "source": []
  }
 ],
 "metadata": {
  "kernelspec": {
   "display_name": "Python 3 (ipykernel)",
   "language": "python",
   "name": "python3"
  },
  "language_info": {
   "codemirror_mode": {
    "name": "ipython",
    "version": 3
   },
   "file_extension": ".py",
   "mimetype": "text/x-python",
   "name": "python",
   "nbconvert_exporter": "python",
   "pygments_lexer": "ipython3",
   "version": "3.10.6"
  }
 },
 "nbformat": 4,
 "nbformat_minor": 5
}
