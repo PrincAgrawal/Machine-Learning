{
 "cells": [
  {
   "cell_type": "code",
   "execution_count": 7,
   "id": "1ad24aee-4df8-4b61-8730-e8e107b93db0",
   "metadata": {},
   "outputs": [],
   "source": [
    "# How To Create Your Own ufunc.........."
   ]
  },
  {
   "cell_type": "code",
   "execution_count": 1,
   "id": "e4debb49-37c4-4502-b499-679fbd29ba73",
   "metadata": {},
   "outputs": [],
   "source": [
    "# To create your own ufunc, you have to define a function, like you do with\n",
    "#   normal functions in Python, then you add it to your NumPy ufunc library \n",
    "#   with the frompyfunc() method.\n",
    "\n",
    "# The frompyfunc() method takes the following arguments:\n",
    "\n",
    "# function - the name of the function.\n",
    "# inputs - the number of input arguments (arrays).\n",
    "# outputs - the number of output arrays."
   ]
  },
  {
   "cell_type": "code",
   "execution_count": 6,
   "id": "8c3cd276-5b85-4aa9-a334-266d5607c87c",
   "metadata": {},
   "outputs": [
    {
     "name": "stdout",
     "output_type": "stream",
     "text": [
      "[6 8 10 12]\n"
     ]
    }
   ],
   "source": [
    "import numpy as np\n",
    "\n",
    "def myadd(x, y):\n",
    "  return x+y\n",
    "\n",
    "myadd = np.frompyfunc(myadd, 2, 1)\n",
    "\n",
    "print(myadd([1, 2, 3, 4], [5, 6, 7, 8]))    "
   ]
  },
  {
   "cell_type": "code",
   "execution_count": 1,
   "id": "06d72c4a-de7d-4470-b480-e5f041b6c8bd",
   "metadata": {},
   "outputs": [
    {
     "name": "stdout",
     "output_type": "stream",
     "text": [
      "<class 'numpy.ufunc'>\n"
     ]
    }
   ],
   "source": [
    "import numpy as np\n",
    "\n",
    "print(type(np.add))"
   ]
  },
  {
   "cell_type": "code",
   "execution_count": 2,
   "id": "1e5c81cd-8f11-4b57-b264-659a3e23fa29",
   "metadata": {},
   "outputs": [
    {
     "name": "stdout",
     "output_type": "stream",
     "text": [
      "<class 'function'>\n"
     ]
    }
   ],
   "source": [
    "print(type(np.concatenate))"
   ]
  },
  {
   "cell_type": "code",
   "execution_count": 3,
   "id": "3245cfa6-23bc-4527-a06c-0a8e3dd0b24f",
   "metadata": {},
   "outputs": [
    {
     "ename": "NameError",
     "evalue": "name 'hghfh' is not defined",
     "output_type": "error",
     "traceback": [
      "\u001b[1;31m---------------------------------------------------------------------------\u001b[0m",
      "\u001b[1;31mNameError\u001b[0m                                 Traceback (most recent call last)",
      "Cell \u001b[1;32mIn[3], line 1\u001b[0m\n\u001b[1;32m----> 1\u001b[0m \u001b[38;5;28mprint\u001b[39m(\u001b[38;5;28mtype\u001b[39m(\u001b[43mhghfh\u001b[49m))\n",
      "\u001b[1;31mNameError\u001b[0m: name 'hghfh' is not defined"
     ]
    }
   ],
   "source": [
    "print(type(hghfh))"
   ]
  },
  {
   "cell_type": "code",
   "execution_count": null,
   "id": "f5abd103-8bbb-4503-bba3-da0db71123b7",
   "metadata": {},
   "outputs": [],
   "source": []
  }
 ],
 "metadata": {
  "kernelspec": {
   "display_name": "Python 3 (ipykernel)",
   "language": "python",
   "name": "python3"
  },
  "language_info": {
   "codemirror_mode": {
    "name": "ipython",
    "version": 3
   },
   "file_extension": ".py",
   "mimetype": "text/x-python",
   "name": "python",
   "nbconvert_exporter": "python",
   "pygments_lexer": "ipython3",
   "version": "3.10.6"
  }
 },
 "nbformat": 4,
 "nbformat_minor": 5
}
