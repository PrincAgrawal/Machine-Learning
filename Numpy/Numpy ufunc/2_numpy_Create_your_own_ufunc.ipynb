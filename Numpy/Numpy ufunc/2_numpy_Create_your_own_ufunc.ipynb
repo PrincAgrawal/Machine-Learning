{
 "cells": [
  {
   "cell_type": "code",
   "execution_count": 1,
   "id": "f46867db-df4f-4ead-bb2a-161ab861d5ea",
   "metadata": {},
   "outputs": [],
   "source": [
    "# How To Create Your Own ufunc......."
   ]
  },
  {
   "cell_type": "code",
   "execution_count": 3,
   "id": "e4debb49-37c4-4502-b499-679fbd29ba73",
   "metadata": {},
   "outputs": [],
   "source": [
    "# To create your own ufunc, you have to define a function, like you do with\n",
    "#   normal functions in Python, then you add it to your NumPy ufunc library \n",
    "#   with the frompyfunc() method.\n",
    "\n",
    "# The frompyfunc() method takes the following arguments:\n",
    "\n",
    "# function - the name of the function.\n",
    "# inputs - the number of input arguments (arrays).\n",
    "# outputs - the number of output arrays."
   ]
  },
  {
   "cell_type": "code",
   "execution_count": null,
   "id": "d95edeaa-8559-4e9e-8405-0dd25d42383c",
   "metadata": {},
   "outputs": [],
   "source": []
  }
 ],
 "metadata": {
  "kernelspec": {
   "display_name": "Python 3 (ipykernel)",
   "language": "python",
   "name": "python3"
  },
  "language_info": {
   "codemirror_mode": {
    "name": "ipython",
    "version": 3
   },
   "file_extension": ".py",
   "mimetype": "text/x-python",
   "name": "python",
   "nbconvert_exporter": "python",
   "pygments_lexer": "ipython3",
   "version": "3.10.6"
  }
 },
 "nbformat": 4,
 "nbformat_minor": 5
}
