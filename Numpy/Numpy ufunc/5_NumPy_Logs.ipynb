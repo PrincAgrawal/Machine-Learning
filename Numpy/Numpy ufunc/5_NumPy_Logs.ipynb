{
 "cells": [
  {
   "cell_type": "markdown",
   "id": "6d5242ec-7f6f-4275-82a1-e2a082db1292",
   "metadata": {},
   "source": [
    "# NumPy Logs"
   ]
  },
  {
   "cell_type": "markdown",
   "id": "0e0cde10-e651-4105-a8f8-bf7af01b4c57",
   "metadata": {},
   "source": [
    "Logs\n",
    "NumPy provides functions to perform log at the base 2, e and 10.\n",
    "\n",
    "We will also explore how we can take log for any base by creating a custom ufunc.\n",
    "\n",
    "All of the log functions will place -inf or inf in the elements if the log can not be computed."
   ]
  },
  {
   "cell_type": "code",
   "execution_count": 1,
   "id": "99468ac1-00c8-4428-a4f9-9f00fac08c2e",
   "metadata": {},
   "outputs": [],
   "source": [
    "import numpy as np"
   ]
  },
  {
   "cell_type": "markdown",
   "id": "8b1d26ee-c091-4bda-b7ca-d60abcfe46a1",
   "metadata": {},
   "source": [
    "#### Log at Base 2 :-"
   ]
  },
  {
   "cell_type": "markdown",
   "id": "cd0a9ac0-f70d-4038-bc92-770df1f99ef4",
   "metadata": {},
   "source": [
    "Use the log2() function to perform log at the base 2."
   ]
  },
  {
   "cell_type": "code",
   "execution_count": 4,
   "id": "b72d408d-04f0-44b7-8904-97cad7992141",
   "metadata": {},
   "outputs": [
    {
     "name": "stdout",
     "output_type": "stream",
     "text": [
      "[0.         1.         1.5849625  2.         2.32192809 2.5849625\n",
      " 2.80735492 3.         3.169925  ]\n"
     ]
    }
   ],
   "source": [
    "arr = np.arange(1, 10)\n",
    "\n",
    "print(np.log2(arr))"
   ]
  },
  {
   "cell_type": "markdown",
   "id": "de2ab6ce-f600-46bf-99f0-7762dae4443b",
   "metadata": {},
   "source": [
    "# Note :-\n",
    "The arange(1, 10) function returns an array with integers starting from 1 (included) to 10 (not included)."
   ]
  },
  {
   "cell_type": "raw",
   "id": "9974d8ff-67d6-4d09-95de-cd98d399b18b",
   "metadata": {},
   "source": [
    "** Log at Base 10 :-\n",
    "\n",
    "Use the log10() function to perform log at the base 10."
   ]
  },
  {
   "cell_type": "code",
   "execution_count": 7,
   "id": "9cf61385-bd04-48ca-9355-b3dff43064e1",
   "metadata": {},
   "outputs": [
    {
     "name": "stdout",
     "output_type": "stream",
     "text": [
      "[0.         0.30103    0.47712125 0.60205999 0.69897    0.77815125\n",
      " 0.84509804 0.90308999 0.95424251]\n"
     ]
    }
   ],
   "source": [
    "arr = np.arange(1, 10)\n",
    "\n",
    "print(np.log10(arr))"
   ]
  },
  {
   "cell_type": "raw",
   "id": "93950643-13cd-4149-8990-b4469002c877",
   "metadata": {},
   "source": [
    "** Natural Log, or Log at Base e :-\n",
    "\n",
    "Use the log() function to perform log at the base e."
   ]
  },
  {
   "cell_type": "code",
   "execution_count": 8,
   "id": "dbfc2cb1-3d9f-459e-b863-81053872226f",
   "metadata": {},
   "outputs": [
    {
     "name": "stdout",
     "output_type": "stream",
     "text": [
      "[0.         0.69314718 1.09861229 1.38629436 1.60943791 1.79175947\n",
      " 1.94591015 2.07944154 2.19722458]\n"
     ]
    }
   ],
   "source": [
    "\n",
    "arr = np.arange(1, 10)\n",
    "\n",
    "print(np.log(arr))"
   ]
  },
  {
   "cell_type": "markdown",
   "id": "b355e542-b1d4-4e48-897c-5259619c93b2",
   "metadata": {},
   "source": [
    "# Log at Any Base :-\n",
    "\r\n",
    "NumPy does not provide any function to take log at any base, so we can use the frompyfunc() function along with inbuilt function math.log() with two input parameters and one output parameter:"
   ]
  },
  {
   "cell_type": "code",
   "execution_count": null,
   "id": "7993ebae-47e4-4f48-9bd4-47f12ca4f02d",
   "metadata": {},
   "outputs": [],
   "source": [
    "from math import log\n",
    "import numpy as np"
   ]
  }
 ],
 "metadata": {
  "kernelspec": {
   "display_name": "Python 3 (ipykernel)",
   "language": "python",
   "name": "python3"
  },
  "language_info": {
   "codemirror_mode": {
    "name": "ipython",
    "version": 3
   },
   "file_extension": ".py",
   "mimetype": "text/x-python",
   "name": "python",
   "nbconvert_exporter": "python",
   "pygments_lexer": "ipython3",
   "version": "3.10.6"
  }
 },
 "nbformat": 4,
 "nbformat_minor": 5
}
