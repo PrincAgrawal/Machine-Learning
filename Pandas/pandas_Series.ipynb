{
 "cells": [
  {
   "cell_type": "markdown",
   "id": "a5d14cb8-158b-4b59-8137-402948438cf8",
   "metadata": {},
   "source": [
    "# Pandas Series :-\n",
    " A Pandas Series is like a column in a table.\n",
    "\n",
    "It is a one-dimensional array holding data of any type.\n"
   ]
  },
  {
   "cell_type": "code",
   "execution_count": 11,
   "id": "929c0195-5ed6-4119-9e5a-61f7404edeb5",
   "metadata": {},
   "outputs": [
    {
     "name": "stdout",
     "output_type": "stream",
     "text": [
      "2.1.4\n"
     ]
    }
   ],
   "source": [
    "import pandas as pd\n",
    "print(pd.__version__)"
   ]
  },
  {
   "cell_type": "code",
   "execution_count": 12,
   "id": "c784fbff-43af-4440-a165-a1175c0a503e",
   "metadata": {},
   "outputs": [
    {
     "name": "stdout",
     "output_type": "stream",
     "text": [
      "0    1\n",
      "1    2\n",
      "2    3\n",
      "3    7\n",
      "4    8\n",
      "5    4\n",
      "dtype: int64\n",
      "3\n"
     ]
    }
   ],
   "source": [
    "prince=[1,2,3,7,8,4]\n",
    "princenew=pd.Series(prince)\n",
    "print(princenew)\n",
    "print(prince[2])"
   ]
  },
  {
   "cell_type": "markdown",
   "id": "ed6dfd6e",
   "metadata": {},
   "source": [
    "## Create Labels :-\n",
    "With the index argument, you can name your own labels."
   ]
  },
  {
   "cell_type": "code",
   "execution_count": 13,
   "id": "51f31203-6d40-4424-b285-5aab4588da32",
   "metadata": {},
   "outputs": [
    {
     "name": "stdout",
     "output_type": "stream",
     "text": [
      "x    1\n",
      "y    2\n",
      "z    3\n",
      "a    7\n",
      "b    8\n",
      "c    4\n",
      "dtype: int64\n"
     ]
    }
   ],
   "source": [
    "myvar = pd.Series(prince, index = [\"x\", \"y\", \"z\",\"a\",\"b\",\"c\"])\n",
    "print(myvar)"
   ]
  },
  {
   "cell_type": "code",
   "execution_count": 14,
   "id": "5bb9db01-2da1-49a5-9254-0f37a272c20c",
   "metadata": {},
   "outputs": [
    {
     "name": "stdout",
     "output_type": "stream",
     "text": [
      "2\n"
     ]
    }
   ],
   "source": [
    "print(myvar[\"y\"])"
   ]
  },
  {
   "cell_type": "markdown",
   "id": "d176f2cf",
   "metadata": {},
   "source": [
    "# Key/Value Objects as Series :-"
   ]
  },
  {
   "cell_type": "code",
   "execution_count": 19,
   "id": "216fd722",
   "metadata": {},
   "outputs": [
    {
     "name": "stdout",
     "output_type": "stream",
     "text": [
      "day1    420\n",
      "day2    380\n",
      "day3    390\n",
      "dtype: int64\n"
     ]
    }
   ],
   "source": [
    "import pandas as pd\n",
    "\n",
    "calories = {\"day1\": 420, \"day2\": 380, \"day3\": 390}\n",
    "\n",
    "myvar = pd.Series(calories)\n",
    "\n",
    "print(myvar)        "
   ]
  }
 ],
 "metadata": {
  "kernelspec": {
   "display_name": "Python 3 (ipykernel)",
   "language": "python",
   "name": "python3"
  },
  "language_info": {
   "codemirror_mode": {
    "name": "ipython",
    "version": 3
   },
   "file_extension": ".py",
   "mimetype": "text/x-python",
   "name": "python",
   "nbconvert_exporter": "python",
   "pygments_lexer": "ipython3",
   "version": "3.12.0"
  }
 },
 "nbformat": 4,
 "nbformat_minor": 5
}
